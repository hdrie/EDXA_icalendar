{
 "cells": [
  {
   "cell_type": "code",
   "execution_count": 60,
   "metadata": {},
   "outputs": [],
   "source": [
    "import icalendar as ic\n",
    "import datetime as dt\n",
    "import pytz\n",
    "import pandas as pd\n",
    "\n",
    "\n",
    "# Definieren einer Dienst-Klasse mit den wichtigsten Attributen.\n",
    "# Der Name der Person taucht nicht auf, da die Dienste später je Mitglied in einer eigenen Liste gesammelt werden\n",
    "class Dienst:\n",
    "    def __init__(self, typ, datum):\n",
    "        self.type = typ # Art des Dienstes: Fluglehrer, Flugleiter, Windenfahrer, Kantine\n",
    "        self.date = datum\n",
    "        if self.date.weekday() == 5: # Abfrage, ob der Tag ein Samstag ist; Definition der Dienstzeiten (für Sommerzeit)\n",
    "            self.tstart = dt.datetime.combine(self.date, dt.time(11, tzinfo=pytz.utc))\n",
    "            self.tend = dt.datetime.combine(self.date, dt.time(16, tzinfo=pytz.utc))\n",
    "        else:\n",
    "            self.tstart = dt.datetime.combine(self.date, dt.time(8, tzinfo=pytz.utc))\n",
    "            self.tend = dt.datetime.combine(self.date, dt.time(16, tzinfo=pytz.utc))\n",
    "\n",
    "\n",
    "# Funktion zum generieren eines icalendar-Kalenders, nimmt eine Liste von Dienst-Objekten an\n",
    "def gen_calendar(dienste):\n",
    "    cal = ic.Calendar()\n",
    "    cal.add('prodid', '-//Dienstplan_Achmer//von_hauken.com//')\n",
    "    cal.add('version', '2.0')\n",
    "    cal.add('calscale', 'GREGORIAN')\n",
    "    cal.add('method', 'PUBLISH')\n",
    "\n",
    "    events = {} # Generieren der einzelnen Termine innerhalb des Kalenders. Nutzen eines Dicts, um fortlaufend Events zu benennen und zu hinterlegen\n",
    "    for i,n in enumerate(dienste):\n",
    "        events[f\"event{i}\"] = ic.Event()\n",
    "        events[f\"event{i}\"].add(\"uid\", f\"Achmer-Dienst-{n.date.isoformat()}\")\n",
    "        events[f\"event{i}\"].add(\"summary\", f'{n.type} Achmer') # Name, der später im Kalender angezeigt wird\n",
    "        events[f\"event{i}\"].add(\"dtstart\", n.tstart) # Startzeit, als datetime-objekt\n",
    "        events[f\"event{i}\"].add(\"dtend\", n.tend) # Endzeit\n",
    "        events[f\"event{i}\"].add(\"status\", \"CONFIRMED\")\n",
    "        cal.add_component(events[f\"event{i}\"])\n",
    "    return cal # Rückgabe des Kalenders\n",
    "\n",
    "# Funktion zum schreiben des übergebenen Kalenders in eine .ics Datei. Der Name der betreffenden Person wird zum Dateinamen\n",
    "def write_calendar(name, cal):\n",
    "    with open(f\"./cal1/{name}.ics\", \"wb\") as f: # \"wb\": Die .to_ical()-Funktion gibt einen b''-String (binary) raus, daher write-binary\n",
    "        f.write(cal.to_ical())\n",
    "\n",
    "# Einlesen der vorbereiteten Datenbanken\n",
    "names = pd.read_csv(\"./namensliste.csv\")\n",
    "names = names['0'].tolist() # Vereinfachung der Namensliste als einfache liste\n",
    "dienstplan = pd.read_csv(\"./dp_aufbereitet.csv\")\n",
    "\n",
    "# Je Mitglied in der Namensliste Erstellung einer Kalenderdatei\n",
    "for mitglied in names:\n",
    "    diensttage = dienstplan[dienstplan['Personen'].str.contains(mitglied)] # Filterung nach Zeilen, in dem das Mitglied vorkommt, also einen Dienst hat\n",
    "    dienste = []\n",
    "\n",
    "    for index, row in diensttage.iterrows(): # Sukzessive Erstellung von Dienst-Objekten und Sammlung in einer Liste \n",
    "        dienste.append(Dienst(row['Dienst'], dt.date.fromisoformat(row['Date'])))\n",
    "\n",
    "    cal = gen_calendar(dienste) # Generieren des Kalenders\n",
    "    write_calendar(mitglied, cal) # Schreiben des Kalenders\n"
   ]
  }
 ],
 "metadata": {
  "interpreter": {
   "hash": "31f2aee4e71d21fbe5cf8b01ff0e069b9275f58929596ceb00d14d90e3e16cd6"
  },
  "kernelspec": {
   "display_name": "Python 3.9.7 64-bit",
   "name": "python3"
  },
  "language_info": {
   "codemirror_mode": {
    "name": "ipython",
    "version": 3
   },
   "file_extension": ".py",
   "mimetype": "text/x-python",
   "name": "python",
   "nbconvert_exporter": "python",
   "pygments_lexer": "ipython3",
   "version": "3.9.7"
  },
  "orig_nbformat": 4
 },
 "nbformat": 4,
 "nbformat_minor": 2
}
