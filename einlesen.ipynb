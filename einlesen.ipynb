{
 "cells": [
  {
   "cell_type": "code",
   "execution_count": 54,
   "metadata": {},
   "outputs": [],
   "source": [
    "import pandas as pd\n",
    "\n",
    "# Vorbereitung\n",
    "# 1. Suchen und ersetzen: nicht decodierbares e bei Andre\n",
    "# 2. zweite \"Person\" Spalte in \"Person1\" umbenennen (lässt sich besser referenzieren)\n",
    "\n",
    "# Einlesen der .CSV Datei\n",
    "dienstplan = pd.read_csv(\"20220306 Dienstplan-2022.csv\", sep=\";\")\n",
    "\n",
    "\n",
    "# Dictionary, um Monatsnamen in Monatsnummern umzuwandeln\n",
    "monate = {\"Januar\": 1, \"Februar\": 2, \"Maerz\": 3, \"April\": 4, \"Mai\": 5, \"Juni\": 6, \"Juli\": 7, \"August\": 8, \"September\": 9, \"Oktober\": 10, \"November\": 11, \"Dezember\": 12}\n",
    "dienstplan[\"Monat\"] = dienstplan[\"Monat\"].replace(monate)\n",
    "\n",
    "# Zusammenführen der Spalten für Tag,Monat,Jahr in neuer Spalte \"Date\"\n",
    "dienstplan[\"Date\"] = pd.to_datetime(dienstplan[\"Jahr\"].astype(str) + \"/\" + dienstplan[\"Monat\"].astype(str) + \"/\" + dienstplan[\"Tag\"].astype(str))\n",
    "\n",
    "# Erstellen einer Namensliste aller Diensthabenden\n",
    "names = pd.concat([dienstplan[\"Person\"], dienstplan[\"Person1\"]],ignore_index=True).drop_duplicates().dropna().reset_index(drop=True)\n",
    "\n",
    "# Zusammenführen der beiden Namensspalten. Es wird später nur das Vorkommen des jeweiligen Mitglieds innerhalb der Spalte abgefragt\n",
    "dienstplan['Person1'].fillna('keiner', inplace=True)\n",
    "dienstplan['Personen'] = dienstplan['Person'] + \" ; \" + dienstplan['Person1']\n",
    "\n",
    "# Schreibe Dienstplan in zwischen-CSV, zu validierungszwecken\n",
    "dienstplan[[\"Date\", \"Dienst\", \"Personen\"]].to_csv(\"./dp_aufbereitet.csv\")\n",
    "names.to_csv(\"./namensliste.csv\")"
   ]
  }
 ],
 "metadata": {
  "interpreter": {
   "hash": "916dbcbb3f70747c44a77c7bcd40155683ae19c65e1c03b4aa3499c5328201f1"
  },
  "kernelspec": {
   "display_name": "Python 3.9.7 64-bit",
   "name": "python3"
  },
  "language_info": {
   "codemirror_mode": {
    "name": "ipython",
    "version": 3
   },
   "file_extension": ".py",
   "mimetype": "text/x-python",
   "name": "python",
   "nbconvert_exporter": "python",
   "pygments_lexer": "ipython3",
   "version": "3.9.7"
  },
  "orig_nbformat": 4
 },
 "nbformat": 4,
 "nbformat_minor": 2
}
